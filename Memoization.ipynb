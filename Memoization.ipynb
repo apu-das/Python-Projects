{
  "nbformat": 4,
  "nbformat_minor": 0,
  "metadata": {
    "colab": {
      "provenance": []
    },
    "kernelspec": {
      "name": "python3",
      "display_name": "Python 3"
    },
    "language_info": {
      "name": "python"
    }
  },
  "cells": [
    {
      "cell_type": "code",
      "execution_count": 1,
      "metadata": {
        "id": "EKmh-iRtVekN"
      },
      "outputs": [],
      "source": [
        "# Memoization is an optimization technique used primarily to speed up computer programs by storing the results of expensive function calls and returning the\n",
        "#    cached results when the same input ocuur again."
      ]
    },
    {
      "cell_type": "code",
      "source": [
        "# fib\n",
        "\n",
        "import time\n",
        "\n",
        "def fib(n):\n",
        "  if n == 1 or n == 0:\n",
        "    return 1\n",
        "  else:\n",
        "    return fib(n-1) + fib(n-2)"
      ],
      "metadata": {
        "id": "5wdnzduDWCQ2"
      },
      "execution_count": 16,
      "outputs": []
    },
    {
      "cell_type": "code",
      "source": [
        "start = time.time()\n",
        "print(fib(40))\n",
        "print(time.time()-start)"
      ],
      "metadata": {
        "colab": {
          "base_uri": "https://localhost:8080/"
        },
        "id": "nZbZEOcgWss6",
        "outputId": "a319429c-d181-492c-d7ad-d0eaf0e5e445"
      },
      "execution_count": 17,
      "outputs": [
        {
          "output_type": "stream",
          "name": "stdout",
          "text": [
            "165580141\n",
            "51.792948961257935\n"
          ]
        }
      ]
    },
    {
      "cell_type": "code",
      "source": [
        "# fib\n",
        "\n",
        "import time\n",
        "\n",
        "def fib(n,d):\n",
        "  if n in d:\n",
        "    return d[n]\n",
        "  else:\n",
        "    d[n] = fib(n-1,d) + fib(n-2,d)\n",
        "    return d[n]\n",
        "\n",
        "start = time.time()\n",
        "d = {0:1,1:1}\n",
        "print(fib(50,d))\n",
        "print(time.time()-start)"
      ],
      "metadata": {
        "colab": {
          "base_uri": "https://localhost:8080/"
        },
        "id": "0sBG2IJmW_ff",
        "outputId": "ade5ed79-7bc0-4142-c04b-7a5b9901da1b"
      },
      "execution_count": 14,
      "outputs": [
        {
          "output_type": "stream",
          "name": "stdout",
          "text": [
            "20365011074\n",
            "0.0002751350402832031\n"
          ]
        }
      ]
    },
    {
      "cell_type": "code",
      "source": [],
      "metadata": {
        "id": "IGN9_L1OcfLL"
      },
      "execution_count": null,
      "outputs": []
    }
  ]
}