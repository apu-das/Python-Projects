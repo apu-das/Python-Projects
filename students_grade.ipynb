{
 "cells": [
  {
   "cell_type": "markdown",
   "id": "367d8094",
   "metadata": {},
   "source": [
    "Given the names and grades for each student in a class of  N students, store them in a nested list and print the name(s) of any student(s) having the second lowest grade.\n",
    "\n",
    "Note: If there are multiple students with the second lowest grade, order their names alphabetically and print each name on a new line.                                                                                                                           \n",
    "\n",
    "Input Format:\n",
    "\n",
    "The first line contains an integer,  N , the number of students.\n",
    "The 2N subsequent lines describe each student over2  lines.\n",
    "- The first line contains a student's name.\n",
    "- The second line contains their grade.                                                                                          \n",
    "Constraint:       \n",
    "a)2<=N<=5      \n",
    "b)There will always be one or more students having the second lowest grade"
   ]
  },
  {
   "cell_type": "code",
   "execution_count": null,
   "id": "a14a9751",
   "metadata": {},
   "outputs": [],
   "source": [
    "# Input the number of students (N)\n",
    "N = int(input())\n",
    "\n",
    "# Create an empty list to store student information\n",
    "students = []\n",
    "\n",
    "# Input the student information and store it as a nested list\n",
    "for _ in range(N):\n",
    "    name = input()\n",
    "    grade = float(input())\n",
    "    students.append([name, grade])\n",
    "\n",
    "# Find the second lowest grade\n",
    "grades = set(student[1] for student in students)\n",
    "second_lowest_grade = sorted(grades)[1]\n",
    "\n",
    "# Find and print the names of students with the second lowest grade\n",
    "second_lowest_students = [student[0] for student in students if student[1] == second_lowest_grade]\n",
    "second_lowest_students.sort()  # Sort the names alphabetically\n",
    "\n",
    "# Print each name on a new line\n",
    "for name in second_lowest_students:\n",
    "    print(name)\n"
   ]
  },
  {
   "cell_type": "code",
   "execution_count": null,
   "id": "79e5f5b0",
   "metadata": {},
   "outputs": [],
   "source": []
  }
 ],
 "metadata": {
  "kernelspec": {
   "display_name": "Python 3 (ipykernel)",
   "language": "python",
   "name": "python3"
  },
  "language_info": {
   "codemirror_mode": {
    "name": "ipython",
    "version": 3
   },
   "file_extension": ".py",
   "mimetype": "text/x-python",
   "name": "python",
   "nbconvert_exporter": "python",
   "pygments_lexer": "ipython3",
   "version": "3.11.4"
  }
 },
 "nbformat": 4,
 "nbformat_minor": 5
}
