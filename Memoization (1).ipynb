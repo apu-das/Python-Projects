{
  "nbformat": 4,
  "nbformat_minor": 0,
  "metadata": {
    "colab": {
      "provenance": []
    },
    "kernelspec": {
      "name": "python3",
      "display_name": "Python 3"
    },
    "language_info": {
      "name": "python"
    }
  },
  "cells": [
    {
      "cell_type": "code",
      "execution_count": null,
      "metadata": {
        "id": "EKmh-iRtVekN"
      },
      "outputs": [],
      "source": [
        "# Memoization is an optimization technique used primarily to speed up computer programs by storing the results of expensive function calls and returning the\n",
        "#    cached results when the same input ocuur again."
      ]
    },
    {
      "cell_type": "code",
      "source": [
        "# fib\n",
        "\n",
        "import time\n",
        "\n",
        "def fib(n):\n",
        "  if n == 1 or n == 0:\n",
        "    return 1\n",
        "  else:\n",
        "    return fib(n-1) + fib(n-2)"
      ],
      "metadata": {
        "id": "5wdnzduDWCQ2"
      },
      "execution_count": null,
      "outputs": []
    },
    {
      "cell_type": "code",
      "source": [
        "start = time.time()\n",
        "print(fib(40))\n",
        "print(time.time()-start)"
      ],
      "metadata": {
        "colab": {
          "base_uri": "https://localhost:8080/"
        },
        "id": "nZbZEOcgWss6",
        "outputId": "a319429c-d181-492c-d7ad-d0eaf0e5e445"
      },
      "execution_count": null,
      "outputs": [
        {
          "output_type": "stream",
          "name": "stdout",
          "text": [
            "165580141\n",
            "51.792948961257935\n"
          ]
        }
      ]
    },
    {
      "cell_type": "code",
      "source": [
        "# fib\n",
        "\n",
        "import time\n",
        "\n",
        "def fib(n,d):\n",
        "  if n in d:\n",
        "    return d[n]\n",
        "  else:\n",
        "    d[n] = fib(n-1,d) + fib(n-2,d)\n",
        "    return d[n]\n",
        "\n",
        "start = time.time()\n",
        "d = {0:1,1:1}\n",
        "print(fib(40,d))\n",
        "print(time.time()-start)"
      ],
      "metadata": {
        "colab": {
          "base_uri": "https://localhost:8080/"
        },
        "id": "0sBG2IJmW_ff",
        "outputId": "04e51bf7-48ea-45bf-bdda-5f263d86d018"
      },
      "execution_count": null,
      "outputs": [
        {
          "output_type": "stream",
          "name": "stdout",
          "text": [
            "165580141\n",
            "0.0018906593322753906\n"
          ]
        }
      ]
    },
    {
      "cell_type": "code",
      "source": [
        "def fib(n, memo={}):\n",
        "    # Check if result is already in the memo\n",
        "    if n in memo:\n",
        "        return memo[n]\n",
        "    # Base cases\n",
        "    if n <= 2:\n",
        "        return 1\n",
        "    # Recursive case with memoization\n",
        "    memo[n] = fib(n-1, memo) + fib(n-2, memo)\n",
        "    return memo[n]\n",
        "\n",
        "print(fib(50))  # Without memoization, this would take much longer!\n",
        "\n"
      ],
      "metadata": {
        "id": "IGN9_L1OcfLL",
        "colab": {
          "base_uri": "https://localhost:8080/"
        },
        "outputId": "eefeac35-67a6-4a26-ae35-b052b2101efe"
      },
      "execution_count": 1,
      "outputs": [
        {
          "output_type": "stream",
          "name": "stdout",
          "text": [
            "12586269025\n"
          ]
        }
      ]
    },
    {
      "cell_type": "code",
      "source": [
        "start = time.time()\n",
        "print(fib(40))\n",
        "print(time.time()-start)"
      ],
      "metadata": {
        "colab": {
          "base_uri": "https://localhost:8080/"
        },
        "outputId": "a319429c-d181-492c-d7ad-d0eaf0e5e445",
        "id": "iWoht2wDUG-E"
      },
      "execution_count": null,
      "outputs": [
        {
          "output_type": "stream",
          "name": "stdout",
          "text": [
            "165580141\n",
            "51.792948961257935\n"
          ]
        }
      ]
    },
    {
      "cell_type": "code",
      "source": [
        "# fib\n",
        "# Memoization\n",
        "\n",
        "import time\n",
        "def fib(n, memo={}):\n",
        "                         # Check if result is already in the memo\n",
        "    if n in memo:\n",
        "        return memo[n]\n",
        "                        # Base cases\n",
        "    if n <= 2:\n",
        "        return 1\n",
        "                        # Recursive case with memoization\n",
        "    memo[n] = fib(n-1, memo) + fib(n-2, memo)\n",
        "    return memo[n]\n",
        "\n",
        "start = time.time()\n",
        "print(fib(40))\n",
        "print(time.time()-start,'sec')"
      ],
      "metadata": {
        "colab": {
          "base_uri": "https://localhost:8080/"
        },
        "id": "1GX2KhJbT-Dc",
        "outputId": "dcb2bafe-c715-4d69-ecac-806a772630c0"
      },
      "execution_count": 6,
      "outputs": [
        {
          "output_type": "stream",
          "name": "stdout",
          "text": [
            "102334155\n",
            "0.002026796340942383 sec\n"
          ]
        }
      ]
    },
    {
      "cell_type": "code",
      "source": [
        "# fib\n",
        "# Without Memoization\n",
        "\n",
        "import time\n",
        "def fib(n):\n",
        "  if n == 1 or n == 0:\n",
        "    return 1\n",
        "  else:\n",
        "    return fib(n-1) + fib(n-2)\n",
        "start = time.time()\n",
        "print(fib(40))\n",
        "print(time.time()-start,'sec')"
      ],
      "metadata": {
        "colab": {
          "base_uri": "https://localhost:8080/"
        },
        "id": "fClUrxyQUa_Z",
        "outputId": "d5c7a816-660a-46b2-e869-97e7f98f1c1b"
      },
      "execution_count": 7,
      "outputs": [
        {
          "output_type": "stream",
          "name": "stdout",
          "text": [
            "165580141\n",
            "50.54079079627991 sec\n"
          ]
        }
      ]
    },
    {
      "cell_type": "code",
      "source": [],
      "metadata": {
        "id": "LmTRemc-VMQT"
      },
      "execution_count": null,
      "outputs": []
    }
  ]
}